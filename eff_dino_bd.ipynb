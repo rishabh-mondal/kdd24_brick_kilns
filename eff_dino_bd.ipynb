{
 "cells": [
  {
   "cell_type": "code",
   "execution_count": 1,
   "metadata": {},
   "outputs": [],
   "source": [
    "import os\n",
    "from os.path import join\n",
    "os.environ[\"CUDA_VISIBLE_DEVICES\"] = \"2\"\n",
    "\n",
    "import torch\n",
    "import torch.nn as nn\n",
    "import torchvision\n",
    "from torchvision.models import efficientnet_b0, EfficientNet_B0_Weights\n",
    "from astra.torch.utils import train_fn\n",
    "from astra.torch.metrics import accuracy_score, precision_score, recall_score, f1_score\n",
    "import matplotlib.pyplot as plt\n",
    "\n",
    "device = \"cuda\""
   ]
  },
  {
   "cell_type": "code",
   "execution_count": 2,
   "metadata": {},
   "outputs": [
    {
     "name": "stdout",
     "output_type": "stream",
     "text": [
      "torch.Size([19124, 3, 224, 224]) torch.Size([19124]) torch.Size([6375, 3, 224, 224]) torch.Size([6375])\n",
      "torch.Size([25499, 3, 224, 224]) torch.Size([25499])\n"
     ]
    }
   ],
   "source": [
    "path = \"/home/vannsh.jani/brick_kilns/ssl_exp/data\"\n",
    "x_train = torch.load(join(path, \"ban_x_train.pt\"))\n",
    "y_train = torch.load(join(path, \"ban_y_train.pt\"))\n",
    "x_test = torch.load(join(path, \"ban_x_test.pt\"))\n",
    "y_test = torch.load(join(path, \"ban_y_test.pt\"))\n",
    "\n",
    "print(x_train.shape, y_train.shape, x_test.shape, y_test.shape)\n",
    "x_b = torch.cat([x_train, x_test], dim=0).to(device)\n",
    "y_b = torch.cat([y_train, y_test], dim=0).to(device)\n",
    "\n",
    "print(x_b.shape, y_b.shape)"
   ]
  },
  {
   "cell_type": "code",
   "execution_count": 3,
   "metadata": {},
   "outputs": [
    {
     "name": "stdout",
     "output_type": "stream",
     "text": [
      "torch.Size([5013, 3, 224, 224]) torch.Size([5013])\n"
     ]
    }
   ],
   "source": [
    "x_d = torch.load(join(path, \"delhi_test_images_50.pt\")).to(device)\n",
    "y_d = torch.load(join(path, \"delhi_test_labels_50.pt\"))\n",
    "print(x_d.shape, y_d.shape)"
   ]
  },
  {
   "cell_type": "code",
   "execution_count": 4,
   "metadata": {},
   "outputs": [
    {
     "name": "stdout",
     "output_type": "stream",
     "text": [
      "torch.Size([501, 3, 224, 224]) torch.Size([501])\n"
     ]
    }
   ],
   "source": [
    "x_d_train = torch.load(join(path, \"delhi_5_images.pt\")).to(device)\n",
    "y_d_train = torch.load(join(path, \"delhi_5_labels.pt\")).long().to(device)\n",
    "print(x_d_train.shape, y_d_train.shape)"
   ]
  },
  {
   "cell_type": "code",
   "execution_count": 5,
   "metadata": {},
   "outputs": [
    {
     "name": "stdout",
     "output_type": "stream",
     "text": [
      "torch.Size([26000, 3, 224, 224]) torch.Size([26000])\n"
     ]
    }
   ],
   "source": [
    "x_b = torch.cat([x_b, x_d_train], dim=0)\n",
    "y_b = torch.cat([y_b, y_d_train], dim=0)\n",
    "print(x_b.shape, y_b.shape)"
   ]
  },
  {
   "cell_type": "code",
   "execution_count": 6,
   "metadata": {},
   "outputs": [],
   "source": [
    "# Downstream model\n",
    "class DownstreamModel(nn.Module):\n",
    "    def __init__(self,num_classes):\n",
    "        super().__init__()\n",
    "        resnet = torchvision.models.efficientnet_b0(weights=None)\n",
    "        self.resnet = nn.Sequential(*list(resnet.children())[:-1])\n",
    "        self.last_layer = list(resnet.children())[-1]\n",
    "        # print(dict(self.resnet.named_parameters()).keys())\n",
    "        self.resnet.load_state_dict({k.replace(\"resnet.\", \"\"): v for k, v in torch.load(\"/home/vannsh.jani/brick_kilns/ssl_exp/dino/dino_bd_75_delhi_test_train5_final_table.pth\").items() if k not in [\"fc.weight\", \"fc.bias\"]}) # load different weights\n",
    "        self.last_layer[1] = nn.Linear(1280, num_classes)\n",
    "\n",
    "    def forward(self, x):\n",
    "        x = self.resnet(x).squeeze(-2, -1)\n",
    "        # print(x.shape)\n",
    "        x = self.last_layer(x)\n",
    "        return x"
   ]
  },
  {
   "cell_type": "code",
   "execution_count": 7,
   "metadata": {},
   "outputs": [
    {
     "data": {
      "text/plain": [
       "torch.Size([2, 2])"
      ]
     },
     "execution_count": 7,
     "metadata": {},
     "output_type": "execute_result"
    }
   ],
   "source": [
    "model = DownstreamModel(2).to(device)\n",
    "model(torch.rand(2, 3, 224, 224).to(device)).shape"
   ]
  },
  {
   "cell_type": "code",
   "execution_count": 8,
   "metadata": {},
   "outputs": [
    {
     "name": "stdout",
     "output_type": "stream",
     "text": [
      "Epoch: 0\n"
     ]
    },
    {
     "name": "stderr",
     "output_type": "stream",
     "text": [
      "Loss: 0.42858264: 100%|██████████| 1/1 [00:24<00:00, 24.88s/it]\n"
     ]
    },
    {
     "name": "stdout",
     "output_type": "stream",
     "text": [
      "Accuracy: tensor(0.9611)\n",
      "Precision: tensor(0.6756)\n",
      "Recall: tensor(0.9312)\n",
      "F1 Score: tensor(0.7831)\n",
      "Train Loss: 0.18599057494129537\n",
      "Test Loss: 0.2615760453045368\n",
      "Epoch: 1\n"
     ]
    },
    {
     "name": "stderr",
     "output_type": "stream",
     "text": [
      "Loss: 0.11387730: 100%|██████████| 1/1 [00:24<00:00, 24.90s/it]\n"
     ]
    },
    {
     "name": "stdout",
     "output_type": "stream",
     "text": [
      "Accuracy: tensor(0.9601)\n",
      "Precision: tensor(0.6564)\n",
      "Recall: tensor(0.9421)\n",
      "F1 Score: tensor(0.7738)\n",
      "Train Loss: 0.050231716977729844\n",
      "Test Loss: 0.146105345338583\n",
      "Epoch: 2\n"
     ]
    },
    {
     "name": "stderr",
     "output_type": "stream",
     "text": [
      "Loss: 0.04242052: 100%|██████████| 1/1 [00:24<00:00, 24.91s/it]\n"
     ]
    },
    {
     "name": "stdout",
     "output_type": "stream",
     "text": [
      "Accuracy: tensor(0.9575)\n",
      "Precision: tensor(0.6296)\n",
      "Recall: tensor(0.9425)\n",
      "F1 Score: tensor(0.7549)\n",
      "Train Loss: 0.02620855852485582\n",
      "Test Loss: 0.14617796167731284\n",
      "Epoch: 3\n"
     ]
    },
    {
     "name": "stderr",
     "output_type": "stream",
     "text": [
      "Loss: 0.02770607: 100%|██████████| 1/1 [00:24<00:00, 24.91s/it]\n"
     ]
    },
    {
     "name": "stdout",
     "output_type": "stream",
     "text": [
      "Accuracy: tensor(0.9565)\n",
      "Precision: tensor(0.6200)\n",
      "Recall: tensor(0.9417)\n",
      "F1 Score: tensor(0.7477)\n",
      "Train Loss: 0.022253205575259442\n",
      "Test Loss: 0.16386410729028283\n",
      "Epoch: 4\n"
     ]
    },
    {
     "name": "stderr",
     "output_type": "stream",
     "text": [
      "Loss: 0.02384076: 100%|██████████| 1/1 [00:24<00:00, 24.92s/it]\n"
     ]
    },
    {
     "name": "stdout",
     "output_type": "stream",
     "text": [
      "Accuracy: tensor(0.9567)\n",
      "Precision: tensor(0.6219)\n",
      "Recall: tensor(0.9419)\n",
      "F1 Score: tensor(0.7491)\n",
      "Train Loss: 0.021160647027933608\n",
      "Test Loss: 0.17408693581819534\n",
      "Epoch: 5\n"
     ]
    },
    {
     "name": "stderr",
     "output_type": "stream",
     "text": [
      "Loss: 0.02116998: 100%|██████████| 1/1 [00:24<00:00, 24.91s/it]\n"
     ]
    },
    {
     "name": "stdout",
     "output_type": "stream",
     "text": [
      "Accuracy: tensor(0.9575)\n",
      "Precision: tensor(0.6296)\n",
      "Recall: tensor(0.9425)\n",
      "F1 Score: tensor(0.7549)\n",
      "Train Loss: 0.020029458089180163\n",
      "Test Loss: 0.1786433717235923\n",
      "Epoch: 6\n"
     ]
    },
    {
     "name": "stderr",
     "output_type": "stream",
     "text": [
      "Loss: 0.02016315: 100%|██████████| 1/1 [00:24<00:00, 24.91s/it]\n"
     ]
    },
    {
     "name": "stdout",
     "output_type": "stream",
     "text": [
      "Accuracy: tensor(0.9565)\n",
      "Precision: tensor(0.6200)\n",
      "Recall: tensor(0.9417)\n",
      "F1 Score: tensor(0.7477)\n",
      "Train Loss: 0.01936650400937258\n",
      "Test Loss: 0.1863974257837981\n",
      "Epoch: 7\n"
     ]
    },
    {
     "name": "stderr",
     "output_type": "stream",
     "text": [
      "Loss: 0.01847750: 100%|██████████| 1/1 [00:24<00:00, 24.91s/it]\n"
     ]
    },
    {
     "name": "stdout",
     "output_type": "stream",
     "text": [
      "Accuracy: tensor(0.9561)\n",
      "Precision: tensor(0.6161)\n",
      "Recall: tensor(0.9413)\n",
      "F1 Score: tensor(0.7448)\n",
      "Train Loss: 0.018634327838777425\n",
      "Test Loss: 0.19133889134973286\n",
      "Epoch: 8\n"
     ]
    },
    {
     "name": "stderr",
     "output_type": "stream",
     "text": [
      "Loss: 0.01713382: 100%|██████████| 1/1 [00:24<00:00, 24.90s/it]\n"
     ]
    },
    {
     "name": "stdout",
     "output_type": "stream",
     "text": [
      "Accuracy: tensor(0.9563)\n",
      "Precision: tensor(0.6180)\n",
      "Recall: tensor(0.9415)\n",
      "F1 Score: tensor(0.7462)\n",
      "Train Loss: 0.01800967013603248\n",
      "Test Loss: 0.19521590727381408\n",
      "Epoch: 9\n"
     ]
    },
    {
     "name": "stderr",
     "output_type": "stream",
     "text": [
      "Loss: 0.01629883: 100%|██████████| 1/1 [00:24<00:00, 24.91s/it]\n"
     ]
    },
    {
     "name": "stdout",
     "output_type": "stream",
     "text": [
      "Accuracy: tensor(0.9579)\n",
      "Precision: tensor(0.6372)\n",
      "Recall: tensor(0.9379)\n",
      "F1 Score: tensor(0.7589)\n",
      "Train Loss: 0.01703857325608968\n",
      "Test Loss: 0.1934986597392708\n"
     ]
    }
   ],
   "source": [
    "lr = 1e-5\n",
    "epochs = 10\n",
    "loss_fn = nn.CrossEntropyLoss()\n",
    "\n",
    "train_losses = []\n",
    "test_losses = []\n",
    "for epoch in range(epochs):\n",
    "    torch.cuda.empty_cache()\n",
    "    print(\"Epoch:\", epoch)\n",
    "    model.train()\n",
    "    iter_losses, epoch_losses = train_fn(model, loss_fn, x_b, y_b, lr=lr, epochs=1, batch_size=64)\n",
    "    \n",
    "    torch.cuda.empty_cache()\n",
    "    \n",
    "    model.eval()\n",
    "    \n",
    "    with torch.no_grad():\n",
    "        local_losses = []\n",
    "        for i in range(0, len(x_b), 64):\n",
    "            y_pred = model(x_b[i:i+64])\n",
    "            loss = loss_fn(y_pred, y_b[i:i+64].long())\n",
    "            local_losses.append(loss.item())\n",
    "\n",
    "        train_losses.append(sum(local_losses)/len(local_losses))\n",
    "    \n",
    "    torch.cuda.empty_cache()\n",
    "    \n",
    "    with torch.no_grad():\n",
    "        local_losses = []\n",
    "        local_y_pres = []\n",
    "        for i in range(0, len(x_d), 128):\n",
    "            y_pred = model(x_d[i:i+128]).cpu()\n",
    "            loss = loss_fn(y_pred, y_d[i:i+128].long())\n",
    "            local_losses.append(loss.item())\n",
    "            local_y_pres.append(y_pred.argmax(dim=1))\n",
    "            \n",
    "        test_loss = sum(local_losses)/len(local_losses)\n",
    "        test_losses.append(test_loss)\n",
    "        y_pred = torch.cat(local_y_pres, dim=0)\n",
    "        print(\"Accuracy:\", accuracy_score(y_d, y_pred))\n",
    "        print(\"Precision:\", precision_score(y_d, y_pred))\n",
    "        print(\"Recall:\", recall_score(y_d, y_pred))\n",
    "        print(\"F1 Score:\", f1_score(y_d, y_pred))\n",
    "        print(\"Train Loss:\", train_losses[-1])\n",
    "        print(\"Test Loss:\", test_losses[-1])\n",
    "        \n",
    "    torch.cuda.empty_cache()"
   ]
  }
 ],
 "metadata": {
  "kernelspec": {
   "display_name": "zeel_py311",
   "language": "python",
   "name": "python3"
  },
  "language_info": {
   "codemirror_mode": {
    "name": "ipython",
    "version": 3
   },
   "file_extension": ".py",
   "mimetype": "text/x-python",
   "name": "python",
   "nbconvert_exporter": "python",
   "pygments_lexer": "ipython3",
   "version": "3.11.8"
  }
 },
 "nbformat": 4,
 "nbformat_minor": 2
}
