{
 "cells": [
  {
   "cell_type": "code",
   "execution_count": 1,
   "metadata": {},
   "outputs": [],
   "source": [
    "import os\n",
    "from os.path import join\n",
    "os.environ[\"CUDA_VISIBLE_DEVICES\"] = \"2\"\n",
    "\n",
    "import torch\n",
    "import torch.nn as nn\n",
    "import torchvision\n",
    "from torchvision.models import efficientnet_b0, EfficientNet_B0_Weights\n",
    "from astra.torch.utils import train_fn\n",
    "from astra.torch.metrics import accuracy_score, precision_score, recall_score, f1_score\n",
    "import matplotlib.pyplot as plt\n",
    "\n",
    "device = \"cuda\""
   ]
  },
  {
   "cell_type": "code",
   "execution_count": 2,
   "metadata": {},
   "outputs": [
    {
     "name": "stdout",
     "output_type": "stream",
     "text": [
      "torch.Size([19124, 3, 224, 224]) torch.Size([19124]) torch.Size([6375, 3, 224, 224]) torch.Size([6375])\n",
      "torch.Size([25499, 3, 224, 224]) torch.Size([25499])\n"
     ]
    }
   ],
   "source": [
    "path = \"/home/vannsh.jani/brick_kilns/ssl_exp/data\"\n",
    "x_train = torch.load(join(path, \"ban_x_train.pt\"))\n",
    "y_train = torch.load(join(path, \"ban_y_train.pt\"))\n",
    "x_test = torch.load(join(path, \"ban_x_test.pt\"))\n",
    "y_test = torch.load(join(path, \"ban_y_test.pt\"))\n",
    "\n",
    "print(x_train.shape, y_train.shape, x_test.shape, y_test.shape)\n",
    "x_b = torch.cat([x_train, x_test], dim=0).to(device)\n",
    "y_b = torch.cat([y_train, y_test], dim=0).to(device)\n",
    "\n",
    "print(x_b.shape, y_b.shape)"
   ]
  },
  {
   "cell_type": "code",
   "execution_count": 3,
   "metadata": {},
   "outputs": [
    {
     "name": "stdout",
     "output_type": "stream",
     "text": [
      "torch.Size([5013, 3, 224, 224]) torch.Size([5013])\n"
     ]
    }
   ],
   "source": [
    "x_d = torch.load(join(path, \"delhi_test_images_50.pt\")).to(device)\n",
    "y_d = torch.load(join(path, \"delhi_test_labels_50.pt\")).to(device)\n",
    "print(x_d.shape, y_d.shape)"
   ]
  },
  {
   "cell_type": "code",
   "execution_count": 4,
   "metadata": {},
   "outputs": [],
   "source": [
    "# Downstream model\n",
    "class DownstreamModel(nn.Module):\n",
    "    def __init__(self,num_classes):\n",
    "        super().__init__()\n",
    "        resnet = torchvision.models.efficientnet_b0(weights=None)\n",
    "        self.resnet = nn.Sequential(*list(resnet.children())[:-1])\n",
    "        self.last_layer = list(resnet.children())[-1]\n",
    "        # print(dict(self.resnet.named_parameters()).keys())\n",
    "        self.resnet.load_state_dict({k.replace(\"resnet.\", \"\"): v for k, v in torch.load(\"/home/vannsh.jani/brick_kilns/ssl_exp/dino/dino_bd_75_delhi_test_train5_final_table.pth\").items() if k not in [\"fc.weight\", \"fc.bias\"]}) # load different weights\n",
    "        self.last_layer[1] = nn.Linear(1280, num_classes)\n",
    "\n",
    "    def forward(self, x):\n",
    "        x = self.resnet(x).squeeze(-2, -1)\n",
    "        # print(x.shape)\n",
    "        x = self.last_layer(x)\n",
    "        return x"
   ]
  },
  {
   "cell_type": "code",
   "execution_count": 5,
   "metadata": {},
   "outputs": [
    {
     "data": {
      "text/plain": [
       "torch.Size([2, 2])"
      ]
     },
     "execution_count": 5,
     "metadata": {},
     "output_type": "execute_result"
    }
   ],
   "source": [
    "model = DownstreamModel(2).to(device)\n",
    "model(torch.rand(2, 3, 224, 224).to(device)).shape"
   ]
  },
  {
   "cell_type": "code",
   "execution_count": 6,
   "metadata": {},
   "outputs": [
    {
     "name": "stdout",
     "output_type": "stream",
     "text": [
      "Epoch: 0\n"
     ]
    },
    {
     "name": "stderr",
     "output_type": "stream",
     "text": [
      "Loss: 0.08144404: 100%|██████████| 1/1 [00:24<00:00, 24.68s/it]\n"
     ]
    },
    {
     "name": "stdout",
     "output_type": "stream",
     "text": [
      "Accuracy: tensor(0.9575, device='cuda:0')\n",
      "Precision: tensor(0.6315, device='cuda:0')\n",
      "Recall: tensor(0.9400, device='cuda:0')\n",
      "F1 Score: tensor(0.7555, device='cuda:0')\n",
      "Train Loss: 0.020741720507644994\n",
      "Test Loss: 0.13553185760974884\n",
      "Epoch: 1\n"
     ]
    },
    {
     "name": "stderr",
     "output_type": "stream",
     "text": [
      "Loss: 0.01816072: 100%|██████████| 1/1 [00:24<00:00, 24.51s/it]\n"
     ]
    },
    {
     "name": "stdout",
     "output_type": "stream",
     "text": [
      "Accuracy: tensor(0.9575, device='cuda:0')\n",
      "Precision: tensor(0.6353, device='cuda:0')\n",
      "Recall: tensor(0.9350, device='cuda:0')\n",
      "F1 Score: tensor(0.7566, device='cuda:0')\n",
      "Train Loss: 0.011514820287151164\n",
      "Test Loss: 0.1623053103685379\n",
      "Epoch: 2\n"
     ]
    },
    {
     "name": "stderr",
     "output_type": "stream",
     "text": [
      "Loss: 0.01080246: 100%|██████████| 1/1 [00:24<00:00, 24.49s/it]\n"
     ]
    },
    {
     "name": "stdout",
     "output_type": "stream",
     "text": [
      "Accuracy: tensor(0.9575, device='cuda:0')\n",
      "Precision: tensor(0.6353, device='cuda:0')\n",
      "Recall: tensor(0.9350, device='cuda:0')\n",
      "F1 Score: tensor(0.7566, device='cuda:0')\n",
      "Train Loss: 0.0070075427926318224\n",
      "Test Loss: 0.18949022889137268\n",
      "Epoch: 3\n"
     ]
    },
    {
     "name": "stderr",
     "output_type": "stream",
     "text": [
      "Loss: 0.00567212: 100%|██████████| 1/1 [00:24<00:00, 24.48s/it]\n"
     ]
    },
    {
     "name": "stdout",
     "output_type": "stream",
     "text": [
      "Accuracy: tensor(0.9565, device='cuda:0')\n",
      "Precision: tensor(0.6219, device='cuda:0')\n",
      "Recall: tensor(0.9391, device='cuda:0')\n",
      "F1 Score: tensor(0.7483, device='cuda:0')\n",
      "Train Loss: 0.00406423602208704\n",
      "Test Loss: 0.2482527643442154\n",
      "Epoch: 4\n"
     ]
    },
    {
     "name": "stderr",
     "output_type": "stream",
     "text": [
      "Loss: 0.00284343: 100%|██████████| 1/1 [00:24<00:00, 24.48s/it]\n"
     ]
    },
    {
     "name": "stdout",
     "output_type": "stream",
     "text": [
      "Accuracy: tensor(0.9585, device='cuda:0')\n",
      "Precision: tensor(0.6372, device='cuda:0')\n",
      "Recall: tensor(0.9459, device='cuda:0')\n",
      "F1 Score: tensor(0.7615, device='cuda:0')\n",
      "Train Loss: 0.0027631315152896953\n",
      "Test Loss: 0.2856736183166504\n",
      "Epoch: 5\n"
     ]
    },
    {
     "name": "stderr",
     "output_type": "stream",
     "text": [
      "Loss: 0.00195885: 100%|██████████| 1/1 [00:24<00:00, 24.49s/it]\n"
     ]
    },
    {
     "name": "stdout",
     "output_type": "stream",
     "text": [
      "Accuracy: tensor(0.9565, device='cuda:0')\n",
      "Precision: tensor(0.6411, device='cuda:0')\n",
      "Recall: tensor(0.9151, device='cuda:0')\n",
      "F1 Score: tensor(0.7540, device='cuda:0')\n",
      "Train Loss: 0.0021288321425856366\n",
      "Test Loss: 0.3742600679397583\n",
      "Epoch: 6\n"
     ]
    },
    {
     "name": "stderr",
     "output_type": "stream",
     "text": [
      "Loss: 0.00098726: 100%|██████████| 1/1 [00:24<00:00, 24.49s/it]\n"
     ]
    },
    {
     "name": "stdout",
     "output_type": "stream",
     "text": [
      "Accuracy: tensor(0.9591, device='cuda:0')\n",
      "Precision: tensor(0.6488, device='cuda:0')\n",
      "Recall: tensor(0.9389, device='cuda:0')\n",
      "F1 Score: tensor(0.7673, device='cuda:0')\n",
      "Train Loss: 0.0021756362240938614\n",
      "Test Loss: 0.43321630358695984\n",
      "Epoch: 7\n"
     ]
    },
    {
     "name": "stderr",
     "output_type": "stream",
     "text": [
      "Loss: 0.00125853: 100%|██████████| 1/1 [00:24<00:00, 24.48s/it]\n"
     ]
    },
    {
     "name": "stdout",
     "output_type": "stream",
     "text": [
      "Accuracy: tensor(0.9529, device='cuda:0')\n",
      "Precision: tensor(0.5854, device='cuda:0')\n",
      "Recall: tensor(0.9385, device='cuda:0')\n",
      "F1 Score: tensor(0.7210, device='cuda:0')\n",
      "Train Loss: 0.002864020850487401\n",
      "Test Loss: 0.5094847679138184\n",
      "Epoch: 8\n"
     ]
    },
    {
     "name": "stderr",
     "output_type": "stream",
     "text": [
      "Loss: 0.00145421: 100%|██████████| 1/1 [00:24<00:00, 24.49s/it]\n"
     ]
    },
    {
     "name": "stdout",
     "output_type": "stream",
     "text": [
      "Accuracy: tensor(0.9611, device='cuda:0')\n",
      "Precision: tensor(0.6756, device='cuda:0')\n",
      "Recall: tensor(0.9312, device='cuda:0')\n",
      "F1 Score: tensor(0.7831, device='cuda:0')\n",
      "Train Loss: 0.0017227483522373383\n",
      "Test Loss: 0.44481340050697327\n",
      "Epoch: 9\n"
     ]
    },
    {
     "name": "stderr",
     "output_type": "stream",
     "text": [
      "Loss: 0.00083111: 100%|██████████| 1/1 [00:24<00:00, 24.49s/it]\n"
     ]
    },
    {
     "name": "stdout",
     "output_type": "stream",
     "text": [
      "Accuracy: tensor(0.9579, device='cuda:0')\n",
      "Precision: tensor(0.6372, device='cuda:0')\n",
      "Recall: tensor(0.9379, device='cuda:0')\n",
      "F1 Score: tensor(0.7589, device='cuda:0')\n",
      "Train Loss: 0.00227797791405225\n",
      "Test Loss: 0.5771077871322632\n"
     ]
    }
   ],
   "source": [
    "lr = 1e-4\n",
    "epochs = 10\n",
    "loss_fn = nn.CrossEntropyLoss()\n",
    "\n",
    "train_losses = []\n",
    "test_losses = []\n",
    "for epoch in range(epochs):\n",
    "    print(\"Epoch:\", epoch)\n",
    "    model.train()\n",
    "    iter_losses, epoch_losses = train_fn(model, loss_fn, x_b, y_b, lr=lr, epochs=1, batch_size=64)\n",
    "    \n",
    "    model.eval()\n",
    "    \n",
    "    with torch.no_grad():\n",
    "        local_losses = []\n",
    "        for i in range(0, len(x_b), 64):\n",
    "            y_pred = model(x_b[i:i+64])\n",
    "            loss = loss_fn(y_pred, y_b[i:i+64].long())\n",
    "            local_losses.append(loss.item())\n",
    "\n",
    "        train_losses.append(sum(local_losses)/len(local_losses))\n",
    "    \n",
    "    with torch.no_grad():\n",
    "        y_pred = model(x_d)\n",
    "        test_loss = loss_fn(y_pred, y_d.long())\n",
    "        test_losses.append(test_loss.item())\n",
    "        y_pred = torch.argmax(y_pred, dim=1)\n",
    "        print(\"Accuracy:\", accuracy_score(y_d, y_pred))\n",
    "        print(\"Precision:\", precision_score(y_d, y_pred))\n",
    "        print(\"Recall:\", recall_score(y_d, y_pred))\n",
    "        print(\"F1 Score:\", f1_score(y_d, y_pred))\n",
    "        print(\"Train Loss:\", train_losses[-1])\n",
    "        print(\"Test Loss:\", test_losses[-1])\n",
    "        \n",
    "    torch.cuda.empty_cache()"
   ]
  }
 ],
 "metadata": {
  "kernelspec": {
   "display_name": "zeel_py311",
   "language": "python",
   "name": "python3"
  },
  "language_info": {
   "codemirror_mode": {
    "name": "ipython",
    "version": 3
   },
   "file_extension": ".py",
   "mimetype": "text/x-python",
   "name": "python",
   "nbconvert_exporter": "python",
   "pygments_lexer": "ipython3",
   "version": "3.11.8"
  }
 },
 "nbformat": 4,
 "nbformat_minor": 2
}
