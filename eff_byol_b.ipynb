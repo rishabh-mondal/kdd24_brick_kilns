{
 "cells": [
  {
   "cell_type": "code",
   "execution_count": 1,
   "metadata": {},
   "outputs": [],
   "source": [
    "import os\n",
    "from os.path import join\n",
    "os.environ[\"CUDA_VISIBLE_DEVICES\"] = \"1\"\n",
    "\n",
    "import torch\n",
    "import torch.nn as nn\n",
    "import torchvision\n",
    "from torchvision.models import efficientnet_b0, EfficientNet_B0_Weights\n",
    "from astra.torch.utils import train_fn\n",
    "from astra.torch.metrics import accuracy_score, precision_score, recall_score, f1_score\n",
    "import matplotlib.pyplot as plt\n",
    "\n",
    "device = \"cuda\""
   ]
  },
  {
   "cell_type": "code",
   "execution_count": 2,
   "metadata": {},
   "outputs": [
    {
     "name": "stdout",
     "output_type": "stream",
     "text": [
      "torch.Size([19124, 3, 224, 224]) torch.Size([19124]) torch.Size([6375, 3, 224, 224]) torch.Size([6375])\n",
      "torch.Size([25499, 3, 224, 224]) torch.Size([25499])\n"
     ]
    }
   ],
   "source": [
    "path = \"/home/vannsh.jani/brick_kilns/ssl_exp/data\"\n",
    "x_train = torch.load(join(path, \"ban_x_train.pt\"))\n",
    "y_train = torch.load(join(path, \"ban_y_train.pt\"))\n",
    "x_test = torch.load(join(path, \"ban_x_test.pt\"))\n",
    "y_test = torch.load(join(path, \"ban_y_test.pt\"))\n",
    "\n",
    "print(x_train.shape, y_train.shape, x_test.shape, y_test.shape)\n",
    "x_b = torch.cat([x_train, x_test], dim=0).to(device)\n",
    "y_b = torch.cat([y_train, y_test], dim=0).to(device)\n",
    "\n",
    "print(x_b.shape, y_b.shape)"
   ]
  },
  {
   "cell_type": "code",
   "execution_count": 3,
   "metadata": {},
   "outputs": [
    {
     "name": "stdout",
     "output_type": "stream",
     "text": [
      "torch.Size([5013, 3, 224, 224]) torch.Size([5013])\n"
     ]
    }
   ],
   "source": [
    "x_d = torch.load(join(path, \"delhi_test_images_50.pt\")).to(device)\n",
    "y_d = torch.load(join(path, \"delhi_test_labels_50.pt\")).to(device)\n",
    "print(x_d.shape, y_d.shape)"
   ]
  },
  {
   "cell_type": "code",
   "execution_count": 4,
   "metadata": {},
   "outputs": [],
   "source": [
    "# Downstream model\n",
    "class DownstreamModel(nn.Module):\n",
    "    def __init__(self,num_classes):\n",
    "        super().__init__()\n",
    "        eff = torchvision.models.efficientnet_b0(weights=None)\n",
    "        self.eff = nn.Sequential(*list(eff.children())[:-1])\n",
    "        self.last_layer = list(eff.children())[-1]\n",
    "        self.eff.load_state_dict(torch.load(\"/home/vannsh.jani/brick_kilns/ssl_exp/byol/byol_bd_150.pth\")) # load different weights\n",
    "        self.last_layer[1] = nn.Linear(1280, num_classes)\n",
    "\n",
    "    def forward(self, x):\n",
    "        x = self.eff(x).squeeze(-2, -1)\n",
    "        # print(x.shape)\n",
    "        x = self.last_layer(x)\n",
    "        return x"
   ]
  },
  {
   "cell_type": "code",
   "execution_count": 5,
   "metadata": {},
   "outputs": [
    {
     "data": {
      "text/plain": [
       "torch.Size([2, 2])"
      ]
     },
     "execution_count": 5,
     "metadata": {},
     "output_type": "execute_result"
    }
   ],
   "source": [
    "model = DownstreamModel(2).to(device)\n",
    "model(torch.rand(2, 3, 224, 224).to(device)).shape"
   ]
  },
  {
   "cell_type": "code",
   "execution_count": 6,
   "metadata": {},
   "outputs": [
    {
     "name": "stdout",
     "output_type": "stream",
     "text": [
      "Epoch: 0\n"
     ]
    },
    {
     "name": "stderr",
     "output_type": "stream",
     "text": [
      "Loss: 0.10794935: 100%|██████████| 1/1 [00:24<00:00, 24.47s/it]\n"
     ]
    },
    {
     "name": "stdout",
     "output_type": "stream",
     "text": [
      "Accuracy: tensor(0.9386, device='cuda:0')\n",
      "Precision: tensor(0.7658, device='cuda:0')\n",
      "Recall: tensor(0.6821, device='cuda:0')\n",
      "F1 Score: tensor(0.7215, device='cuda:0')\n",
      "Train Loss: 0.029236862726537582\n",
      "Test Loss: 0.15971051156520844\n",
      "Epoch: 1\n"
     ]
    },
    {
     "name": "stderr",
     "output_type": "stream",
     "text": [
      "Loss: 0.03188365: 100%|██████████| 1/1 [00:24<00:00, 24.50s/it]\n"
     ]
    },
    {
     "name": "stdout",
     "output_type": "stream",
     "text": [
      "Accuracy: tensor(0.9396, device='cuda:0')\n",
      "Precision: tensor(0.7697, device='cuda:0')\n",
      "Recall: tensor(0.6866, device='cuda:0')\n",
      "F1 Score: tensor(0.7258, device='cuda:0')\n",
      "Train Loss: 0.014292655493725642\n",
      "Test Loss: 0.15863411128520966\n",
      "Epoch: 2\n"
     ]
    },
    {
     "name": "stderr",
     "output_type": "stream",
     "text": [
      "Loss: 0.01603327: 100%|██████████| 1/1 [00:24<00:00, 24.46s/it]\n"
     ]
    },
    {
     "name": "stdout",
     "output_type": "stream",
     "text": [
      "Accuracy: tensor(0.9507, device='cuda:0')\n",
      "Precision: tensor(0.7159, device='cuda:0')\n",
      "Recall: tensor(0.7903, device='cuda:0')\n",
      "F1 Score: tensor(0.7513, device='cuda:0')\n",
      "Train Loss: 0.006669526534187981\n",
      "Test Loss: 0.17830879986286163\n",
      "Epoch: 3\n"
     ]
    },
    {
     "name": "stderr",
     "output_type": "stream",
     "text": [
      "Loss: 0.00742396: 100%|██████████| 1/1 [00:24<00:00, 24.48s/it]\n"
     ]
    },
    {
     "name": "stdout",
     "output_type": "stream",
     "text": [
      "Accuracy: tensor(0.9443, device='cuda:0')\n",
      "Precision: tensor(0.7735, device='cuda:0')\n",
      "Recall: tensor(0.7145, device='cuda:0')\n",
      "F1 Score: tensor(0.7429, device='cuda:0')\n",
      "Train Loss: 0.004447783853841277\n",
      "Test Loss: 0.1741524189710617\n",
      "Epoch: 4\n"
     ]
    },
    {
     "name": "stderr",
     "output_type": "stream",
     "text": [
      "Loss: 0.00521822: 100%|██████████| 1/1 [00:24<00:00, 24.45s/it]\n"
     ]
    },
    {
     "name": "stdout",
     "output_type": "stream",
     "text": [
      "Accuracy: tensor(0.9497, device='cuda:0')\n",
      "Precision: tensor(0.7121, device='cuda:0')\n",
      "Recall: tensor(0.7844, device='cuda:0')\n",
      "F1 Score: tensor(0.7465, device='cuda:0')\n",
      "Train Loss: 0.00260073177984547\n",
      "Test Loss: 0.2596641182899475\n",
      "Epoch: 5\n"
     ]
    },
    {
     "name": "stderr",
     "output_type": "stream",
     "text": [
      "Loss: 0.00421059: 100%|██████████| 1/1 [00:24<00:00, 24.47s/it]\n"
     ]
    },
    {
     "name": "stdout",
     "output_type": "stream",
     "text": [
      "Accuracy: tensor(0.9575, device='cuda:0')\n",
      "Precision: tensor(0.7025, device='cuda:0')\n",
      "Recall: tensor(0.8632, device='cuda:0')\n",
      "F1 Score: tensor(0.7746, device='cuda:0')\n",
      "Train Loss: 0.0018026208921557946\n",
      "Test Loss: 0.2526005506515503\n",
      "Epoch: 6\n"
     ]
    },
    {
     "name": "stderr",
     "output_type": "stream",
     "text": [
      "Loss: 0.00399930: 100%|██████████| 1/1 [00:24<00:00, 24.47s/it]\n"
     ]
    },
    {
     "name": "stdout",
     "output_type": "stream",
     "text": [
      "Accuracy: tensor(0.9529, device='cuda:0')\n",
      "Precision: tensor(0.6526, device='cuda:0')\n",
      "Recall: tensor(0.8608, device='cuda:0')\n",
      "F1 Score: tensor(0.7424, device='cuda:0')\n",
      "Train Loss: 0.0035432395113935457\n",
      "Test Loss: 0.3058106303215027\n",
      "Epoch: 7\n"
     ]
    },
    {
     "name": "stderr",
     "output_type": "stream",
     "text": [
      "Loss: 0.00342010: 100%|██████████| 1/1 [00:24<00:00, 24.47s/it]\n"
     ]
    },
    {
     "name": "stdout",
     "output_type": "stream",
     "text": [
      "Accuracy: tensor(0.9422, device='cuda:0')\n",
      "Precision: tensor(0.6430, device='cuda:0')\n",
      "Recall: tensor(0.7631, device='cuda:0')\n",
      "F1 Score: tensor(0.6979, device='cuda:0')\n",
      "Train Loss: 0.0029214904425467502\n",
      "Test Loss: 0.3704482614994049\n",
      "Epoch: 8\n"
     ]
    },
    {
     "name": "stderr",
     "output_type": "stream",
     "text": [
      "Loss: 0.00329036: 100%|██████████| 1/1 [00:24<00:00, 24.48s/it]\n"
     ]
    },
    {
     "name": "stdout",
     "output_type": "stream",
     "text": [
      "Accuracy: tensor(0.9471, device='cuda:0')\n",
      "Precision: tensor(0.7582, device='cuda:0')\n",
      "Recall: tensor(0.7397, device='cuda:0')\n",
      "F1 Score: tensor(0.7488, device='cuda:0')\n",
      "Train Loss: 0.0053722863799829015\n",
      "Test Loss: 0.3078685998916626\n",
      "Epoch: 9\n"
     ]
    },
    {
     "name": "stderr",
     "output_type": "stream",
     "text": [
      "Loss: 0.00363864: 100%|██████████| 1/1 [00:24<00:00, 24.48s/it]\n"
     ]
    },
    {
     "name": "stdout",
     "output_type": "stream",
     "text": [
      "Accuracy: tensor(0.9517, device='cuda:0')\n",
      "Precision: tensor(0.7754, device='cuda:0')\n",
      "Recall: tensor(0.7637, device='cuda:0')\n",
      "F1 Score: tensor(0.7695, device='cuda:0')\n",
      "Train Loss: 0.0020416102393444263\n",
      "Test Loss: 0.27428677678108215\n"
     ]
    }
   ],
   "source": [
    "lr = 1e-4\n",
    "epochs = 10\n",
    "loss_fn = nn.CrossEntropyLoss()\n",
    "\n",
    "train_losses = []\n",
    "test_losses = []\n",
    "for epoch in range(epochs):\n",
    "    print(\"Epoch:\", epoch)\n",
    "    model.train()\n",
    "    iter_losses, epoch_losses = train_fn(model, loss_fn, x_b, y_b, lr=lr, epochs=1, batch_size=64)\n",
    "    \n",
    "    model.eval()\n",
    "    \n",
    "    with torch.no_grad():\n",
    "        local_losses = []\n",
    "        for i in range(0, len(x_b), 64):\n",
    "            y_pred = model(x_b[i:i+64])\n",
    "            loss = loss_fn(y_pred, y_b[i:i+64].long())\n",
    "            local_losses.append(loss.item())\n",
    "\n",
    "        train_losses.append(sum(local_losses)/len(local_losses))\n",
    "    \n",
    "    with torch.no_grad():\n",
    "        y_pred = model(x_d)\n",
    "        test_loss = loss_fn(y_pred, y_d.long())\n",
    "        test_losses.append(test_loss.item())\n",
    "        y_pred = torch.argmax(y_pred, dim=1)\n",
    "        print(\"Accuracy:\", accuracy_score(y_d, y_pred))\n",
    "        print(\"Precision:\", precision_score(y_d, y_pred))\n",
    "        print(\"Recall:\", recall_score(y_d, y_pred))\n",
    "        print(\"F1 Score:\", f1_score(y_d, y_pred))\n",
    "        print(\"Train Loss:\", train_losses[-1])\n",
    "        print(\"Test Loss:\", test_losses[-1])\n",
    "        \n",
    "    torch.cuda.empty_cache()"
   ]
  }
 ],
 "metadata": {
  "kernelspec": {
   "display_name": "zeel_py311",
   "language": "python",
   "name": "python3"
  },
  "language_info": {
   "codemirror_mode": {
    "name": "ipython",
    "version": 3
   },
   "file_extension": ".py",
   "mimetype": "text/x-python",
   "name": "python",
   "nbconvert_exporter": "python",
   "pygments_lexer": "ipython3",
   "version": "3.11.8"
  }
 },
 "nbformat": 4,
 "nbformat_minor": 2
}
